{
  "nbformat": 4,
  "nbformat_minor": 0,
  "metadata": {
    "colab": {
      "name": "covid19-textmining",
      "provenance": [],
      "collapsed_sections": [],
      "toc_visible": true
    },
    "kernelspec": {
      "name": "python3",
      "display_name": "Python 3"
    },
    "accelerator": "GPU"
  },
  "cells": [
    {
      "cell_type": "code",
      "metadata": {
        "id": "JarqsZhoC013",
        "colab_type": "code",
        "outputId": "572561e0-1fb1-4347-87a3-d6531b0f3573",
        "colab": {
          "base_uri": "https://localhost:8080/",
          "height": 860
        }
      },
      "source": [
        "!pip install rank_bm25\n",
        "!pip install transformers"
      ],
      "execution_count": 1,
      "outputs": [
        {
          "output_type": "stream",
          "text": [
            "Collecting rank_bm25\n",
            "  Downloading https://files.pythonhosted.org/packages/d2/e4/38d03d6d5e2deae8d2838b81d6ba2742475ced42045f5c46aeb00c5fb79c/rank_bm25-0.2.tar.gz\n",
            "Requirement already satisfied: numpy in /usr/local/lib/python3.6/dist-packages (from rank_bm25) (1.18.2)\n",
            "Building wheels for collected packages: rank-bm25\n",
            "  Building wheel for rank-bm25 (setup.py) ... \u001b[?25l\u001b[?25hdone\n",
            "  Created wheel for rank-bm25: filename=rank_bm25-0.2-cp36-none-any.whl size=4162 sha256=564cfdc0fd1cd9b3396a45b39beee6a77592c04c3db8254e96dc7a667fc2f5cb\n",
            "  Stored in directory: /root/.cache/pip/wheels/6f/0c/1f/78945dd6a5478bbcdb50d73ac96ae5af2ffcdfcd374fd9b1bf\n",
            "Successfully built rank-bm25\n",
            "Installing collected packages: rank-bm25\n",
            "Successfully installed rank-bm25-0.2\n",
            "Collecting transformers\n",
            "\u001b[?25l  Downloading https://files.pythonhosted.org/packages/37/ba/dda44bbf35b071441635708a3dd568a5ca6bf29f77389f7c7c6818ae9498/transformers-2.7.0-py3-none-any.whl (544kB)\n",
            "\u001b[K     |████████████████████████████████| 552kB 4.6MB/s \n",
            "\u001b[?25hCollecting tokenizers==0.5.2\n",
            "\u001b[?25l  Downloading https://files.pythonhosted.org/packages/d1/3f/73c881ea4723e43c1e9acf317cf407fab3a278daab3a69c98dcac511c04f/tokenizers-0.5.2-cp36-cp36m-manylinux1_x86_64.whl (3.7MB)\n",
            "\u001b[K     |████████████████████████████████| 3.7MB 20.6MB/s \n",
            "\u001b[?25hRequirement already satisfied: regex!=2019.12.17 in /usr/local/lib/python3.6/dist-packages (from transformers) (2019.12.20)\n",
            "Collecting sentencepiece\n",
            "\u001b[?25l  Downloading https://files.pythonhosted.org/packages/74/f4/2d5214cbf13d06e7cb2c20d84115ca25b53ea76fa1f0ade0e3c9749de214/sentencepiece-0.1.85-cp36-cp36m-manylinux1_x86_64.whl (1.0MB)\n",
            "\u001b[K     |████████████████████████████████| 1.0MB 52.0MB/s \n",
            "\u001b[?25hRequirement already satisfied: dataclasses; python_version < \"3.7\" in /usr/local/lib/python3.6/dist-packages (from transformers) (0.7)\n",
            "Requirement already satisfied: filelock in /usr/local/lib/python3.6/dist-packages (from transformers) (3.0.12)\n",
            "Requirement already satisfied: boto3 in /usr/local/lib/python3.6/dist-packages (from transformers) (1.12.33)\n",
            "Requirement already satisfied: requests in /usr/local/lib/python3.6/dist-packages (from transformers) (2.21.0)\n",
            "Requirement already satisfied: numpy in /usr/local/lib/python3.6/dist-packages (from transformers) (1.18.2)\n",
            "Requirement already satisfied: tqdm>=4.27 in /usr/local/lib/python3.6/dist-packages (from transformers) (4.38.0)\n",
            "Collecting sacremoses\n",
            "\u001b[?25l  Downloading https://files.pythonhosted.org/packages/a6/b4/7a41d630547a4afd58143597d5a49e07bfd4c42914d8335b2a5657efc14b/sacremoses-0.0.38.tar.gz (860kB)\n",
            "\u001b[K     |████████████████████████████████| 870kB 48.2MB/s \n",
            "\u001b[?25hRequirement already satisfied: s3transfer<0.4.0,>=0.3.0 in /usr/local/lib/python3.6/dist-packages (from boto3->transformers) (0.3.3)\n",
            "Requirement already satisfied: botocore<1.16.0,>=1.15.33 in /usr/local/lib/python3.6/dist-packages (from boto3->transformers) (1.15.33)\n",
            "Requirement already satisfied: jmespath<1.0.0,>=0.7.1 in /usr/local/lib/python3.6/dist-packages (from boto3->transformers) (0.9.5)\n",
            "Requirement already satisfied: certifi>=2017.4.17 in /usr/local/lib/python3.6/dist-packages (from requests->transformers) (2019.11.28)\n",
            "Requirement already satisfied: urllib3<1.25,>=1.21.1 in /usr/local/lib/python3.6/dist-packages (from requests->transformers) (1.24.3)\n",
            "Requirement already satisfied: chardet<3.1.0,>=3.0.2 in /usr/local/lib/python3.6/dist-packages (from requests->transformers) (3.0.4)\n",
            "Requirement already satisfied: idna<2.9,>=2.5 in /usr/local/lib/python3.6/dist-packages (from requests->transformers) (2.8)\n",
            "Requirement already satisfied: six in /usr/local/lib/python3.6/dist-packages (from sacremoses->transformers) (1.12.0)\n",
            "Requirement already satisfied: click in /usr/local/lib/python3.6/dist-packages (from sacremoses->transformers) (7.1.1)\n",
            "Requirement already satisfied: joblib in /usr/local/lib/python3.6/dist-packages (from sacremoses->transformers) (0.14.1)\n",
            "Requirement already satisfied: python-dateutil<3.0.0,>=2.1 in /usr/local/lib/python3.6/dist-packages (from botocore<1.16.0,>=1.15.33->boto3->transformers) (2.8.1)\n",
            "Requirement already satisfied: docutils<0.16,>=0.10 in /usr/local/lib/python3.6/dist-packages (from botocore<1.16.0,>=1.15.33->boto3->transformers) (0.15.2)\n",
            "Building wheels for collected packages: sacremoses\n",
            "  Building wheel for sacremoses (setup.py) ... \u001b[?25l\u001b[?25hdone\n",
            "  Created wheel for sacremoses: filename=sacremoses-0.0.38-cp36-none-any.whl size=884628 sha256=27bc00051526627bc9c0ec0c2cd8e18bf29a2461d2f10da1322da5c1eb776ef1\n",
            "  Stored in directory: /root/.cache/pip/wheels/6d/ec/1a/21b8912e35e02741306f35f66c785f3afe94de754a0eaf1422\n",
            "Successfully built sacremoses\n",
            "Installing collected packages: tokenizers, sentencepiece, sacremoses, transformers\n",
            "Successfully installed sacremoses-0.0.38 sentencepiece-0.1.85 tokenizers-0.5.2 transformers-2.7.0\n"
          ],
          "name": "stdout"
        }
      ]
    },
    {
      "cell_type": "code",
      "metadata": {
        "id": "kCW-8g2DDDli",
        "colab_type": "code",
        "outputId": "392e7895-932e-4e6e-8b8d-c30b17f81829",
        "colab": {
          "base_uri": "https://localhost:8080/",
          "height": 140
        }
      },
      "source": [
        "import os\n",
        "import re\n",
        "import pickle\n",
        "from gensim.summarization.summarizer import summarize\n",
        "from gensim.utils import simple_preprocess\n",
        "from gensim.models.word2vec import Word2Vec\n",
        "from rank_bm25 import BM25Okapi\n",
        "\n",
        "import nltk\n",
        "nltk.download('punkt')\n",
        "nltk.download('stopwords')\n",
        "from nltk.corpus import stopwords\n",
        "stop_words = stopwords.words('english')\n",
        "from nltk.stem import WordNetLemmatizer\n",
        "from nltk.corpus import wordnet\n",
        "from nltk.util import ngrams\n",
        "from nltk.stem.porter import PorterStemmer\n",
        "from sklearn.manifold import TSNE\n",
        "import torch\n",
        "import scipy as sp\n",
        "from transformers import BertTokenizer, BertModel\n",
        "from sklearn.feature_extraction.text import TfidfVectorizer\n",
        "from sklearn.metrics.pairwise import cosine_distances\n",
        "from scipy.spatial import distance\n",
        "from IPython.display import HTML\n",
        "import pandas as pd\n",
        "import numpy as np\n",
        "import matplotlib.pyplot as plt\n",
        "import seaborn as sns\n",
        "import string\n",
        "import plotly.express as px\n",
        "sns.set()"
      ],
      "execution_count": 2,
      "outputs": [
        {
          "output_type": "stream",
          "text": [
            "[nltk_data] Downloading package punkt to /root/nltk_data...\n",
            "[nltk_data]   Unzipping tokenizers/punkt.zip.\n",
            "[nltk_data] Downloading package stopwords to /root/nltk_data...\n",
            "[nltk_data]   Unzipping corpora/stopwords.zip.\n"
          ],
          "name": "stdout"
        },
        {
          "output_type": "stream",
          "text": [
            "/usr/local/lib/python3.6/dist-packages/statsmodels/tools/_testing.py:19: FutureWarning: pandas.util.testing is deprecated. Use the functions in the public API at pandas.testing instead.\n",
            "  import pandas.util.testing as tm\n"
          ],
          "name": "stderr"
        }
      ]
    },
    {
      "cell_type": "markdown",
      "metadata": {
        "id": "1tlxEB2mEKYQ",
        "colab_type": "text"
      },
      "source": [
        "# Read files and preprocess\n",
        "\n",
        "There are 4 files, so we read and merge them into one dataframe\n",
        "\n",
        "Preprocess the texts by filling NAs, lowercasing, and removing urls\n",
        "\n",
        "Extract keywords from the titles and abstracts and set as new columns"
      ]
    },
    {
      "cell_type": "code",
      "metadata": {
        "id": "o6OzG7ZSEKwM",
        "colab_type": "code",
        "colab": {}
      },
      "source": [
        "# Set file paths\n",
        "data_path = \"/content/drive/My Drive/Colab Notebooks/data/cord19\"\n",
        "data_files = [\"biorxiv_clean.csv\", \"clean_noncomm_use.csv\", \n",
        "              'clean_comm_use.csv', 'clean_pmc.csv'] #['all_sources_metadata_2020-03-13.csv'] \n",
        "\n",
        "# Read files\n",
        "dfs = []\n",
        "for file in data_files:\n",
        "    dfs.append(pd.read_csv(os.path.join(data_path, file)))\n",
        "data = pd.concat(dfs, ignore_index=True)\n",
        "data.drop_duplicates(subset=[\"title\"],inplace=True)\n",
        "#data = data.iloc[0:20]\n",
        "\n",
        "def preprocess(data):\n",
        "\n",
        "    def preprocess_(x):\n",
        "        # Lowercase\n",
        "        x = x.lower()\n",
        "        # Remove urls\n",
        "        x = re.sub(r'https?://\\S+|www\\.\\S+', '', x)\n",
        "        # Remove newline characters\n",
        "        x = re.sub(r'\\n', '', x)\n",
        "        x = re.sub(r'\\[\\d{0,2}\\s*(,\\d{0,2})*\\]*', '', x).strip()\n",
        "        return x\n",
        "\n",
        "    data = data.copy()\n",
        "\n",
        "    # Filling the empty abstracts \n",
        "    data['abstract'] = data['abstract'].fillna('')\n",
        "    # Filling the empty titles \n",
        "    data['title'] = data['title'].fillna('')\n",
        "\n",
        "    # Preprocess\n",
        "    data['abstract_processed'] = data['abstract'].apply(preprocess_)\n",
        "    data['title_processed'] = data['title'].apply(preprocess_)\n",
        "    data['text_processed'] = data['text'].apply(preprocess_)\n",
        "    data['title_abstract_processed'] = data['title_processed'] + '. ' + data['abstract_processed']\n",
        "    data['text_abstract_processed'] = data['title_processed'] + '. ' + data['text_processed']\n",
        "\n",
        "    return data\n",
        "\n",
        "\n",
        "def tokenize(text):\n",
        "    return [word.strip(string.punctuation) for word in text.split() if word not in stop_words]\n",
        "\n",
        "\n",
        "def create_sentences_df(data):\n",
        "    sentences = []\n",
        "    ids = []\n",
        "    for idx, row in data.iterrows():\n",
        "        \n",
        "        # Create list of sentences from the paper's text\n",
        "        sents = nltk.sent_tokenize(row['text_processed'])\n",
        "        # Create a list where all elements are the paper's index number\n",
        "        ids.extend([idx] * len(sents))\n",
        "        sentences.extend(sents)\n",
        "\n",
        "    df = pd.DataFrame({\"Id\": ids, \"Sentence\": sentences})\n",
        "    # Drop sentences that are too short or too long\n",
        "    df = df[(df.Sentence.map(len) >= 10) & (df.Sentence.map(len) <= 510)]\n",
        "\n",
        "    # Remove period at the end of the sentence and also any period not followed by a digit\n",
        "    df['Sentence'] = df['Sentence'].apply(lambda x: re.sub('\\.(?!\\d)', '', x))\n",
        "\n",
        "    return df\n",
        "\n",
        "# Preprocess data\n",
        "data = preprocess(data)\n",
        "sentences_df = create_sentences_df(data)\n"
      ],
      "execution_count": 0,
      "outputs": []
    },
    {
      "cell_type": "code",
      "metadata": {
        "id": "2rgwhwXGEVPe",
        "colab_type": "code",
        "colab": {}
      },
      "source": [
        ""
      ],
      "execution_count": 0,
      "outputs": []
    },
    {
      "cell_type": "code",
      "metadata": {
        "id": "wDtqs4Wk8aHp",
        "colab_type": "code",
        "colab": {}
      },
      "source": [
        ""
      ],
      "execution_count": 0,
      "outputs": []
    },
    {
      "cell_type": "code",
      "metadata": {
        "id": "6aviKB-Qz-do",
        "colab_type": "code",
        "colab": {}
      },
      "source": [
        ""
      ],
      "execution_count": 0,
      "outputs": []
    },
    {
      "cell_type": "markdown",
      "metadata": {
        "id": "y1eWfo4cEtW4",
        "colab_type": "text"
      },
      "source": [
        "# Create Word Embeddings"
      ]
    },
    {
      "cell_type": "code",
      "metadata": {
        "id": "ci6LhQcVEuvq",
        "colab_type": "code",
        "colab": {}
      },
      "source": [
        "sentences_df = sentences_df['Sentence'].apply(tokenize)\n",
        "model = Word2Vec(\n",
        "    sentences_df,\n",
        "    size=200,\n",
        "    window=5,\n",
        "    min_count=10,\n",
        "    sg=1,\n",
        "    workers=10,\n",
        "    iter=10)\n",
        "# Normalize the word embeddings\n",
        "model.init_sims(replace=True)"
      ],
      "execution_count": 0,
      "outputs": []
    },
    {
      "cell_type": "markdown",
      "metadata": {
        "id": "mA1IAAKUSGr6",
        "colab_type": "text"
      },
      "source": [
        "# Query a word and see similar words"
      ]
    },
    {
      "cell_type": "code",
      "metadata": {
        "id": "2lDhXup6SIwk",
        "colab_type": "code",
        "outputId": "a7f958e4-b95b-4c69-afc3-2e16bb60b7cc",
        "colab": {
          "base_uri": "https://localhost:8080/",
          "height": 699
        }
      },
      "source": [
        "def query_synonyms(query_term, embedding_model, top_n=5):\n",
        "    words = embedding_model.wv.most_similar(query_term, topn=top_n)\n",
        "    words = [word[0] for word in words]\n",
        "    return words\n",
        "    \n",
        "def plot_tsne(word, model):\n",
        "\n",
        "    if word == \"\":\n",
        "        return\n",
        "    words = model.wv.most_similar(word, topn=30)\n",
        "    words = [x[0] for x in words] + [word]\n",
        "    X = model[words]\n",
        "    \n",
        "    tsne = TSNE(n_components=2)\n",
        "    X_tsne = tsne.fit_transform(X)\n",
        "\n",
        "    df = pd.DataFrame(X_tsne, index=words, columns=['x', 'y'])\n",
        "\n",
        "    fig = px.scatter(df, x=\"x\", y=\"y\", text=df.index)\n",
        "    fig.update_traces(textposition='top center')\n",
        "    fig.show()\n",
        "    \n",
        "\n",
        "plot_tsne('covid-19', model)"
      ],
      "execution_count": 25,
      "outputs": [
        {
          "output_type": "stream",
          "text": [
            "/usr/local/lib/python3.6/dist-packages/gensim/matutils.py:737: FutureWarning:\n",
            "\n",
            "Conversion of the second argument of issubdtype from `int` to `np.signedinteger` is deprecated. In future, it will be treated as `np.int64 == np.dtype(int).type`.\n",
            "\n",
            "/usr/local/lib/python3.6/dist-packages/ipykernel_launcher.py:12: DeprecationWarning:\n",
            "\n",
            "Call to deprecated `__getitem__` (Method will be removed in 4.0.0, use self.wv.__getitem__() instead).\n",
            "\n"
          ],
          "name": "stderr"
        },
        {
          "output_type": "display_data",
          "data": {
            "text/html": [
              "<html>\n",
              "<head><meta charset=\"utf-8\" /></head>\n",
              "<body>\n",
              "    <div>\n",
              "            <script src=\"https://cdnjs.cloudflare.com/ajax/libs/mathjax/2.7.5/MathJax.js?config=TeX-AMS-MML_SVG\"></script><script type=\"text/javascript\">if (window.MathJax) {MathJax.Hub.Config({SVG: {font: \"STIX-Web\"}});}</script>\n",
              "                <script type=\"text/javascript\">window.PlotlyConfig = {MathJaxConfig: 'local'};</script>\n",
              "        <script src=\"https://cdn.plot.ly/plotly-latest.min.js\"></script>    \n",
              "            <div id=\"66e31ee3-007d-4749-84a6-8009ba970b8a\" class=\"plotly-graph-div\" style=\"height:525px; width:100%;\"></div>\n",
              "            <script type=\"text/javascript\">\n",
              "                \n",
              "                    window.PLOTLYENV=window.PLOTLYENV || {};\n",
              "                    \n",
              "                if (document.getElementById(\"66e31ee3-007d-4749-84a6-8009ba970b8a\")) {\n",
              "                    Plotly.newPlot(\n",
              "                        '66e31ee3-007d-4749-84a6-8009ba970b8a',\n",
              "                        [{\"hoverlabel\": {\"namelength\": 0}, \"hovertemplate\": \"x=%{x}<br>y=%{y}<br>text=%{text}\", \"legendgroup\": \"\", \"marker\": {\"color\": \"#636efa\", \"symbol\": \"circle\"}, \"mode\": \"markers+text\", \"name\": \"\", \"showlegend\": false, \"text\": [\"2019-ncov\", \"covid-19in\", \"ard\", \"sars-cov-2\", \"ncp\", \"covid-19the\", \"covid\", \"timeframe\", \"coronavirus-infected\", \"presumptive\", \"notified\", \"evd\", \"categorised\", \"casesthe\", \"sari\", \"covid-2019\", \"patientswe\", \"periodthe\", \"occurrences\", \"covid19\", \"convincing\", \"1099\", \"arti\", \"xiangyang\", \"nationwide\", \"extrapolated\", \"frontline\", \"individual-level\", \"time-series\", \"nationally\", \"covid-19\"], \"textposition\": \"top center\", \"type\": \"scatter\", \"x\": [-65.24226379394531, 48.91505813598633, -24.231441497802734, -83.62154388427734, -36.136470794677734, 55.59211349487305, 60.566810607910156, -116.03651428222656, 100.93362426757812, 71.787353515625, -88.75231170654297, -69.0412368774414, -40.051475524902344, -81.29206848144531, 32.82514953613281, 10.147306442260742, 88.20401763916016, -9.271026611328125, 30.058774948120117, -9.177421569824219, -120.13662719726562, -54.84203338623047, 5.970515251159668, -125.68189239501953, -26.4008731842041, -49.49845886230469, 69.00492095947266, 110.3876724243164, 12.986892700195312, -10.175893783569336, 21.9582576751709], \"xaxis\": \"x\", \"y\": [-123.82594299316406, -65.59327697753906, -93.36964416503906, -36.703369140625, -52.328269958496094, 11.90876293182373, 85.6019515991211, -74.83941650390625, -63.57959747314453, -27.66240119934082, 75.10021209716797, -78.37847900390625, 93.7942886352539, 10.986949920654297, 49.860626220703125, 97.94390869140625, 43.22523498535156, -139.26902770996094, -25.37459373474121, -21.817399978637695, 33.759918212890625, 45.554439544677734, -61.08742141723633, -18.562625885009766, 16.899547576904297, -14.153938293457031, -109.80322265625, -3.0253868103027344, 13.284460067749023, 55.2617073059082, -103.74022674560547], \"yaxis\": \"y\"}],\n",
              "                        {\"legend\": {\"tracegroupgap\": 0}, \"margin\": {\"t\": 60}, \"template\": {\"data\": {\"bar\": [{\"error_x\": {\"color\": \"#2a3f5f\"}, \"error_y\": {\"color\": \"#2a3f5f\"}, \"marker\": {\"line\": {\"color\": \"#E5ECF6\", \"width\": 0.5}}, \"type\": \"bar\"}], \"barpolar\": [{\"marker\": {\"line\": {\"color\": \"#E5ECF6\", \"width\": 0.5}}, \"type\": \"barpolar\"}], \"carpet\": [{\"aaxis\": {\"endlinecolor\": \"#2a3f5f\", \"gridcolor\": \"white\", \"linecolor\": \"white\", \"minorgridcolor\": \"white\", \"startlinecolor\": \"#2a3f5f\"}, \"baxis\": {\"endlinecolor\": \"#2a3f5f\", \"gridcolor\": \"white\", \"linecolor\": \"white\", \"minorgridcolor\": \"white\", \"startlinecolor\": \"#2a3f5f\"}, \"type\": \"carpet\"}], \"choropleth\": [{\"colorbar\": {\"outlinewidth\": 0, \"ticks\": \"\"}, \"type\": \"choropleth\"}], \"contour\": [{\"colorbar\": {\"outlinewidth\": 0, \"ticks\": \"\"}, \"colorscale\": [[0.0, \"#0d0887\"], [0.1111111111111111, \"#46039f\"], [0.2222222222222222, \"#7201a8\"], [0.3333333333333333, \"#9c179e\"], [0.4444444444444444, \"#bd3786\"], [0.5555555555555556, \"#d8576b\"], [0.6666666666666666, \"#ed7953\"], [0.7777777777777778, \"#fb9f3a\"], [0.8888888888888888, \"#fdca26\"], [1.0, \"#f0f921\"]], \"type\": \"contour\"}], \"contourcarpet\": [{\"colorbar\": {\"outlinewidth\": 0, \"ticks\": \"\"}, \"type\": \"contourcarpet\"}], \"heatmap\": [{\"colorbar\": {\"outlinewidth\": 0, \"ticks\": \"\"}, \"colorscale\": [[0.0, \"#0d0887\"], [0.1111111111111111, \"#46039f\"], [0.2222222222222222, \"#7201a8\"], [0.3333333333333333, \"#9c179e\"], [0.4444444444444444, \"#bd3786\"], [0.5555555555555556, \"#d8576b\"], [0.6666666666666666, \"#ed7953\"], [0.7777777777777778, \"#fb9f3a\"], [0.8888888888888888, \"#fdca26\"], [1.0, \"#f0f921\"]], \"type\": \"heatmap\"}], \"heatmapgl\": [{\"colorbar\": {\"outlinewidth\": 0, \"ticks\": \"\"}, \"colorscale\": [[0.0, \"#0d0887\"], [0.1111111111111111, \"#46039f\"], [0.2222222222222222, \"#7201a8\"], [0.3333333333333333, \"#9c179e\"], [0.4444444444444444, \"#bd3786\"], [0.5555555555555556, \"#d8576b\"], [0.6666666666666666, \"#ed7953\"], [0.7777777777777778, \"#fb9f3a\"], [0.8888888888888888, \"#fdca26\"], [1.0, \"#f0f921\"]], \"type\": \"heatmapgl\"}], \"histogram\": [{\"marker\": {\"colorbar\": {\"outlinewidth\": 0, \"ticks\": \"\"}}, \"type\": \"histogram\"}], \"histogram2d\": [{\"colorbar\": {\"outlinewidth\": 0, \"ticks\": \"\"}, \"colorscale\": [[0.0, \"#0d0887\"], [0.1111111111111111, \"#46039f\"], [0.2222222222222222, \"#7201a8\"], [0.3333333333333333, \"#9c179e\"], [0.4444444444444444, \"#bd3786\"], [0.5555555555555556, \"#d8576b\"], [0.6666666666666666, \"#ed7953\"], [0.7777777777777778, \"#fb9f3a\"], [0.8888888888888888, \"#fdca26\"], [1.0, \"#f0f921\"]], \"type\": \"histogram2d\"}], \"histogram2dcontour\": [{\"colorbar\": {\"outlinewidth\": 0, \"ticks\": \"\"}, \"colorscale\": [[0.0, \"#0d0887\"], [0.1111111111111111, \"#46039f\"], [0.2222222222222222, \"#7201a8\"], [0.3333333333333333, \"#9c179e\"], [0.4444444444444444, \"#bd3786\"], [0.5555555555555556, \"#d8576b\"], [0.6666666666666666, \"#ed7953\"], [0.7777777777777778, \"#fb9f3a\"], [0.8888888888888888, \"#fdca26\"], [1.0, \"#f0f921\"]], \"type\": \"histogram2dcontour\"}], \"mesh3d\": [{\"colorbar\": {\"outlinewidth\": 0, \"ticks\": \"\"}, \"type\": \"mesh3d\"}], \"parcoords\": [{\"line\": {\"colorbar\": {\"outlinewidth\": 0, \"ticks\": \"\"}}, \"type\": \"parcoords\"}], \"pie\": [{\"automargin\": true, \"type\": \"pie\"}], \"scatter\": [{\"marker\": {\"colorbar\": {\"outlinewidth\": 0, \"ticks\": \"\"}}, \"type\": \"scatter\"}], \"scatter3d\": [{\"line\": {\"colorbar\": {\"outlinewidth\": 0, \"ticks\": \"\"}}, \"marker\": {\"colorbar\": {\"outlinewidth\": 0, \"ticks\": \"\"}}, \"type\": \"scatter3d\"}], \"scattercarpet\": [{\"marker\": {\"colorbar\": {\"outlinewidth\": 0, \"ticks\": \"\"}}, \"type\": \"scattercarpet\"}], \"scattergeo\": [{\"marker\": {\"colorbar\": {\"outlinewidth\": 0, \"ticks\": \"\"}}, \"type\": \"scattergeo\"}], \"scattergl\": [{\"marker\": {\"colorbar\": {\"outlinewidth\": 0, \"ticks\": \"\"}}, \"type\": \"scattergl\"}], \"scattermapbox\": [{\"marker\": {\"colorbar\": {\"outlinewidth\": 0, \"ticks\": \"\"}}, \"type\": \"scattermapbox\"}], \"scatterpolar\": [{\"marker\": {\"colorbar\": {\"outlinewidth\": 0, \"ticks\": \"\"}}, \"type\": \"scatterpolar\"}], \"scatterpolargl\": [{\"marker\": {\"colorbar\": {\"outlinewidth\": 0, \"ticks\": \"\"}}, \"type\": \"scatterpolargl\"}], \"scatterternary\": [{\"marker\": {\"colorbar\": {\"outlinewidth\": 0, \"ticks\": \"\"}}, \"type\": \"scatterternary\"}], \"surface\": [{\"colorbar\": {\"outlinewidth\": 0, \"ticks\": \"\"}, \"colorscale\": [[0.0, \"#0d0887\"], [0.1111111111111111, \"#46039f\"], [0.2222222222222222, \"#7201a8\"], [0.3333333333333333, \"#9c179e\"], [0.4444444444444444, \"#bd3786\"], [0.5555555555555556, \"#d8576b\"], [0.6666666666666666, \"#ed7953\"], [0.7777777777777778, \"#fb9f3a\"], [0.8888888888888888, \"#fdca26\"], [1.0, \"#f0f921\"]], \"type\": \"surface\"}], \"table\": [{\"cells\": {\"fill\": {\"color\": \"#EBF0F8\"}, \"line\": {\"color\": \"white\"}}, \"header\": {\"fill\": {\"color\": \"#C8D4E3\"}, \"line\": {\"color\": \"white\"}}, \"type\": \"table\"}]}, \"layout\": {\"annotationdefaults\": {\"arrowcolor\": \"#2a3f5f\", \"arrowhead\": 0, \"arrowwidth\": 1}, \"coloraxis\": {\"colorbar\": {\"outlinewidth\": 0, \"ticks\": \"\"}}, \"colorscale\": {\"diverging\": [[0, \"#8e0152\"], [0.1, \"#c51b7d\"], [0.2, \"#de77ae\"], [0.3, \"#f1b6da\"], [0.4, \"#fde0ef\"], [0.5, \"#f7f7f7\"], [0.6, \"#e6f5d0\"], [0.7, \"#b8e186\"], [0.8, \"#7fbc41\"], [0.9, \"#4d9221\"], [1, \"#276419\"]], \"sequential\": [[0.0, \"#0d0887\"], [0.1111111111111111, \"#46039f\"], [0.2222222222222222, \"#7201a8\"], [0.3333333333333333, \"#9c179e\"], [0.4444444444444444, \"#bd3786\"], [0.5555555555555556, \"#d8576b\"], [0.6666666666666666, \"#ed7953\"], [0.7777777777777778, \"#fb9f3a\"], [0.8888888888888888, \"#fdca26\"], [1.0, \"#f0f921\"]], \"sequentialminus\": [[0.0, \"#0d0887\"], [0.1111111111111111, \"#46039f\"], [0.2222222222222222, \"#7201a8\"], [0.3333333333333333, \"#9c179e\"], [0.4444444444444444, \"#bd3786\"], [0.5555555555555556, \"#d8576b\"], [0.6666666666666666, \"#ed7953\"], [0.7777777777777778, \"#fb9f3a\"], [0.8888888888888888, \"#fdca26\"], [1.0, \"#f0f921\"]]}, \"colorway\": [\"#636efa\", \"#EF553B\", \"#00cc96\", \"#ab63fa\", \"#FFA15A\", \"#19d3f3\", \"#FF6692\", \"#B6E880\", \"#FF97FF\", \"#FECB52\"], \"font\": {\"color\": \"#2a3f5f\"}, \"geo\": {\"bgcolor\": \"white\", \"lakecolor\": \"white\", \"landcolor\": \"#E5ECF6\", \"showlakes\": true, \"showland\": true, \"subunitcolor\": \"white\"}, \"hoverlabel\": {\"align\": \"left\"}, \"hovermode\": \"closest\", \"mapbox\": {\"style\": \"light\"}, \"paper_bgcolor\": \"white\", \"plot_bgcolor\": \"#E5ECF6\", \"polar\": {\"angularaxis\": {\"gridcolor\": \"white\", \"linecolor\": \"white\", \"ticks\": \"\"}, \"bgcolor\": \"#E5ECF6\", \"radialaxis\": {\"gridcolor\": \"white\", \"linecolor\": \"white\", \"ticks\": \"\"}}, \"scene\": {\"xaxis\": {\"backgroundcolor\": \"#E5ECF6\", \"gridcolor\": \"white\", \"gridwidth\": 2, \"linecolor\": \"white\", \"showbackground\": true, \"ticks\": \"\", \"zerolinecolor\": \"white\"}, \"yaxis\": {\"backgroundcolor\": \"#E5ECF6\", \"gridcolor\": \"white\", \"gridwidth\": 2, \"linecolor\": \"white\", \"showbackground\": true, \"ticks\": \"\", \"zerolinecolor\": \"white\"}, \"zaxis\": {\"backgroundcolor\": \"#E5ECF6\", \"gridcolor\": \"white\", \"gridwidth\": 2, \"linecolor\": \"white\", \"showbackground\": true, \"ticks\": \"\", \"zerolinecolor\": \"white\"}}, \"shapedefaults\": {\"line\": {\"color\": \"#2a3f5f\"}}, \"ternary\": {\"aaxis\": {\"gridcolor\": \"white\", \"linecolor\": \"white\", \"ticks\": \"\"}, \"baxis\": {\"gridcolor\": \"white\", \"linecolor\": \"white\", \"ticks\": \"\"}, \"bgcolor\": \"#E5ECF6\", \"caxis\": {\"gridcolor\": \"white\", \"linecolor\": \"white\", \"ticks\": \"\"}}, \"title\": {\"x\": 0.05}, \"xaxis\": {\"automargin\": true, \"gridcolor\": \"white\", \"linecolor\": \"white\", \"ticks\": \"\", \"title\": {\"standoff\": 15}, \"zerolinecolor\": \"white\", \"zerolinewidth\": 2}, \"yaxis\": {\"automargin\": true, \"gridcolor\": \"white\", \"linecolor\": \"white\", \"ticks\": \"\", \"title\": {\"standoff\": 15}, \"zerolinecolor\": \"white\", \"zerolinewidth\": 2}}}, \"xaxis\": {\"anchor\": \"y\", \"domain\": [0.0, 1.0], \"title\": {\"text\": \"x\"}}, \"yaxis\": {\"anchor\": \"x\", \"domain\": [0.0, 1.0], \"title\": {\"text\": \"y\"}}},\n",
              "                        {\"responsive\": true}\n",
              "                    ).then(function(){\n",
              "                            \n",
              "var gd = document.getElementById('66e31ee3-007d-4749-84a6-8009ba970b8a');\n",
              "var x = new MutationObserver(function (mutations, observer) {{\n",
              "        var display = window.getComputedStyle(gd).display;\n",
              "        if (!display || display === 'none') {{\n",
              "            console.log([gd, 'removed!']);\n",
              "            Plotly.purge(gd);\n",
              "            observer.disconnect();\n",
              "        }}\n",
              "}});\n",
              "\n",
              "// Listen for the removal of the full notebook cells\n",
              "var notebookContainer = gd.closest('#notebook-container');\n",
              "if (notebookContainer) {{\n",
              "    x.observe(notebookContainer, {childList: true});\n",
              "}}\n",
              "\n",
              "// Listen for the clearing of the current output cell\n",
              "var outputEl = gd.closest('.output');\n",
              "if (outputEl) {{\n",
              "    x.observe(outputEl, {childList: true});\n",
              "}}\n",
              "\n",
              "                        })\n",
              "                };\n",
              "                \n",
              "            </script>\n",
              "        </div>\n",
              "</body>\n",
              "</html>"
            ]
          },
          "metadata": {
            "tags": []
          }
        }
      ]
    },
    {
      "cell_type": "markdown",
      "metadata": {
        "id": "1NtK8pPIceXU",
        "colab_type": "text"
      },
      "source": [
        "Since different authors might refer to COVID-19 by different terms, we should include all the terms in our first search query, so that no papers are missed.\n",
        "\n",
        "**Similar terms:** 2019-ncov, sars-cov-2, covid-2019, sars-cov-2\n",
        "\n"
      ]
    },
    {
      "cell_type": "code",
      "metadata": {
        "id": "x8a29TO-bTpK",
        "colab_type": "code",
        "colab": {}
      },
      "source": [
        ""
      ],
      "execution_count": 0,
      "outputs": []
    },
    {
      "cell_type": "markdown",
      "metadata": {
        "id": "ZweiQOB1V3b5",
        "colab_type": "text"
      },
      "source": [
        "# Retrieve documents based on query\n",
        "\n",
        "Here we can search for papers on covid-19 by using a BM25 search engine.\n",
        "\n",
        "By filtering out relevant documents, we can greatly reduce our search space"
      ]
    },
    {
      "cell_type": "code",
      "metadata": {
        "id": "hj6JiDvuVuBw",
        "colab_type": "code",
        "colab": {}
      },
      "source": [
        "documents = data['title_abstract_processed'].values\n",
        "tokenized_corpus = [nltk.word_tokenize(doc) for doc in documents]\n",
        "bm25 = BM25Okapi(tokenized_corpus) "
      ],
      "execution_count": 0,
      "outputs": []
    },
    {
      "cell_type": "code",
      "metadata": {
        "id": "28DbKFEmVwen",
        "colab_type": "code",
        "outputId": "d71e3d50-77e2-441b-8adb-d10eba11f4c7",
        "colab": {
          "base_uri": "https://localhost:8080/",
          "height": 759
        }
      },
      "source": [
        "def display_summaries(X):\n",
        "    display(HTML(\"<b>SUMMARIES OF THE ABSTRACTS</b>\"))\n",
        "    for idx, row in retrieved_df.iloc[0:10].iterrows():\n",
        "        try:\n",
        "            summary = summarize(row.abstract_processed, ratio=0.2)\n",
        "            display(HTML(\"<p><font color='#3B57BD'>\" + summary + \"</font></p>\"))\n",
        "        except:\n",
        "            continue\n",
        "        print('')\n",
        "\n",
        "def process_query(query, expand=False):\n",
        "\n",
        "    query = query.lower()\n",
        "    query_list = nltk.word_tokenize(query)\n",
        "    \n",
        "    if expand == True:\n",
        "        for word in query_list.copy():\n",
        "            synonyms = query_synonyms(word, model, 3)\n",
        "            query_list.extend(synonyms)\n",
        "    return query_list\n",
        "\n",
        "def filter_top_docs(data, scores, top_n=300):\n",
        "\n",
        "    retrieved_df = data.copy()\n",
        "    retrieved_df['score'] = scores\n",
        "    retrieved_df = retrieved_df[retrieved_df['score'] > 0]\n",
        "    retrieved_df.sort_values('score', ascending=False, inplace=True)\n",
        "    retrieved_df = retrieved_df.iloc[0:top_n]\n",
        "    return retrieved_df\n",
        "\n",
        "query = \"covid-19, covid19, 2019-ncov, sars-cov-2, covid-2019, sars-cov-2\"\n",
        "query = process_query(query, expand=False)\n",
        "\n",
        "scores = bm25.get_scores(query)\n",
        "\n",
        "retrieved_df = filter_top_docs(data, scores, top_n=1000)\n",
        "\n",
        "\n",
        "# Create sentences df from the retrieved_df papers\n",
        "sentences_df = create_sentences_df(retrieved_df)\n",
        "\n",
        "# Remove every column from retrieved_df except the title and author, \n",
        "# since we only use these two columns to display later on\n",
        "retrieved_df = retrieved_df[['title', 'abstract_processed', 'authors']]\n",
        "\n",
        "# Display summaries of the retrieved_df papers' abstracts\n",
        "display_summaries(retrieved_df)"
      ],
      "execution_count": 5,
      "outputs": [
        {
          "output_type": "display_data",
          "data": {
            "text/html": [
              "<b>SUMMARIES OF THE ABSTRACTS</b>"
            ],
            "text/plain": [
              "<IPython.core.display.HTML object>"
            ]
          },
          "metadata": {
            "tags": []
          }
        },
        {
          "output_type": "display_data",
          "data": {
            "text/html": [
              "<p><font color='#3B57BD'></font></p>"
            ],
            "text/plain": [
              "<IPython.core.display.HTML object>"
            ]
          },
          "metadata": {
            "tags": []
          }
        },
        {
          "output_type": "stream",
          "text": [
            "\n"
          ],
          "name": "stdout"
        },
        {
          "output_type": "display_data",
          "data": {
            "text/html": [
              "<p><font color='#3B57BD'>sars-cov-2 is a human-to-human pathogen that caused fever, severe respiratory disease and pneumonia (known as covid-19).\n",
              "it is thus urgent to develop a rapid, accurate and onsite diagnosis methods in order to effectively identify these early infects, treat them on time and control the disease spreading.</font></p>"
            ],
            "text/plain": [
              "<IPython.core.display.HTML object>"
            ]
          },
          "metadata": {
            "tags": []
          }
        },
        {
          "output_type": "stream",
          "text": [
            "\n"
          ],
          "name": "stdout"
        },
        {
          "output_type": "display_data",
          "data": {
            "text/html": [
              "<p><font color='#3B57BD'>using two designed lamp primer sets, f1ab (opening reading frame 39 1a/b) and np (nucleoprotein) genes of sars-cov-2 were simultaneously amplified 40 and detected in a 'one-step' and 'single-tube' reaction, and the detection results were 41 easily interpreted by nbs.</font></p>"
            ],
            "text/plain": [
              "<IPython.core.display.HTML object>"
            ]
          },
          "metadata": {
            "tags": []
          }
        },
        {
          "output_type": "stream",
          "text": [
            "\n"
          ],
          "name": "stdout"
        },
        {
          "output_type": "display_data",
          "data": {
            "text/html": [
              "<p><font color='#3B57BD'>to identify effective neutralizing antibodies for sars-cov-2, the 37 binding affinities of neutralizing antibodies with sars-cov-2 s protein were predicted and compared by 38 antibody-antigen docking simulation.\n",
              "the result showed that cr3022 neutralizing antibody from human may 39 have higher binding affinity with sars-cov-2 s protein than sars-cov s protein.</font></p>"
            ],
            "text/plain": [
              "<IPython.core.display.HTML object>"
            ]
          },
          "metadata": {
            "tags": []
          }
        },
        {
          "output_type": "stream",
          "text": [
            "\n"
          ],
          "name": "stdout"
        },
        {
          "output_type": "display_data",
          "data": {
            "text/html": [
              "<p><font color='#3B57BD'>in this investigation of potential sars-cov-2 epitopes we found that current prediction tools vary in performance when assessing binding stability, and they are highly dependent on the mhc allotype in question.</font></p>"
            ],
            "text/plain": [
              "<IPython.core.display.HTML object>"
            ]
          },
          "metadata": {
            "tags": []
          }
        },
        {
          "output_type": "stream",
          "text": [
            "\n"
          ],
          "name": "stdout"
        },
        {
          "output_type": "display_data",
          "data": {
            "text/html": [
              "<p><font color='#3B57BD'>however, there is no clinical evidence about whether sars-cov-2 infection can affect male gonadal function so far.in this study, we compared the sex-related hormones between 81 reproductive-aged men with sars-cov-2 infection and 100 age-matched healthy men, and found that serum luteinizing hormone (lh) was significantly increased, but the ratio of testosterone (t) to lh and the ratio of follicle stimulating hormone (fsh) to lh were dramatically decreased in males with covid-19.</font></p>"
            ],
            "text/plain": [
              "<IPython.core.display.HTML object>"
            ]
          },
          "metadata": {
            "tags": []
          }
        },
        {
          "output_type": "stream",
          "text": [
            "\n"
          ],
          "name": "stdout"
        },
        {
          "output_type": "display_data",
          "data": {
            "text/html": [
              "<p><font color='#3B57BD'>however, three drugs approved for human use may inhibit sars-cov-1 and sars-cov-2 protein e, either acting upon the ion channel (amantadine and hexamethylene amiloride 9,10 ) or the pbm (sb203580 5 ), thereby potentially increasing the survival of the host, as already demonstrated for sars-cov-1in animal models.</font></p>"
            ],
            "text/plain": [
              "<IPython.core.display.HTML object>"
            ]
          },
          "metadata": {
            "tags": []
          }
        },
        {
          "output_type": "stream",
          "text": [
            "\n"
          ],
          "name": "stdout"
        },
        {
          "output_type": "display_data",
          "data": {
            "text/html": [
              "<p><font color='#3B57BD'>in sars-cov-2-infected macaques, virus was 5 excreted from nose and throat in absence of clinical signs, and detected in type i and ii pneumocytes in foci of diffuse alveolar damage and mucous glands of the nasal cavity.</font></p>"
            ],
            "text/plain": [
              "<IPython.core.display.HTML object>"
            ]
          },
          "metadata": {
            "tags": []
          }
        },
        {
          "output_type": "stream",
          "text": [
            "\n"
          ],
          "name": "stdout"
        },
        {
          "output_type": "display_data",
          "data": {
            "text/html": [
              "<p><font color='#3B57BD'>to examine whether there is sexual transmission through vaginal from female to her partner, we employed realtime polymerase chain reaction testing (rt-pcr) to detect sars-cov-2 in vaginal environment (including vaginal discharge, cervical or vaginal residual exfoliated cells) and anal swab samples, and inquired recent sexual behaviors from the patients.\n",
              "we tested the vaginal environment and anal swabs from the 35 female patients with covid-19 and found that only an anal swab sample from one patient was positive for sars-cov-2.\n",
              "the results from this study show no evidence of transmission of sars-cov-2 through vaginal sex from female to her partner.</font></p>"
            ],
            "text/plain": [
              "<IPython.core.display.HTML object>"
            ]
          },
          "metadata": {
            "tags": []
          }
        },
        {
          "output_type": "stream",
          "text": [
            "\n"
          ],
          "name": "stdout"
        },
        {
          "output_type": "display_data",
          "data": {
            "text/html": [
              "<p><font color='#3B57BD'></font></p>"
            ],
            "text/plain": [
              "<IPython.core.display.HTML object>"
            ]
          },
          "metadata": {
            "tags": []
          }
        },
        {
          "output_type": "stream",
          "text": [
            "\n"
          ],
          "name": "stdout"
        }
      ]
    },
    {
      "cell_type": "code",
      "metadata": {
        "id": "PYF-N4IleUEH",
        "colab_type": "code",
        "colab": {}
      },
      "source": [
        ""
      ],
      "execution_count": 0,
      "outputs": []
    },
    {
      "cell_type": "markdown",
      "metadata": {
        "id": "pKvPyj-IAqIb",
        "colab_type": "text"
      },
      "source": [
        "# Create local word2vec model on the retrieved documents"
      ]
    },
    {
      "cell_type": "code",
      "metadata": {
        "id": "cevLUvdGB4yw",
        "colab_type": "code",
        "colab": {}
      },
      "source": [
        ""
      ],
      "execution_count": 0,
      "outputs": []
    },
    {
      "cell_type": "code",
      "metadata": {
        "id": "BRgytcGaopHi",
        "colab_type": "code",
        "colab": {}
      },
      "source": [
        "def tokenize(text):\n",
        "    return [word.strip(string.punctuation) for word in text.split() if word not in stop_words]\n",
        "\n",
        "sentences_df['Tokenized'] = sentences_df['Sentence'].apply(tokenize)\n",
        "\n",
        "word2vec = Word2Vec(\n",
        "    sentences_df['Tokenized'],\n",
        "    size=200,\n",
        "    window=5,\n",
        "    min_count=10,\n",
        "    sg=1,\n",
        "    workers=10,\n",
        "    iter=100)\n",
        "\n",
        "# Normalize the word embeddings\n",
        "word2vec.init_sims(replace=True)\n"
      ],
      "execution_count": 0,
      "outputs": []
    },
    {
      "cell_type": "code",
      "metadata": {
        "id": "W134VwFCopBf",
        "colab_type": "code",
        "colab": {}
      },
      "source": [
        ""
      ],
      "execution_count": 0,
      "outputs": []
    },
    {
      "cell_type": "code",
      "metadata": {
        "id": "SZA6crr7oo-4",
        "colab_type": "code",
        "colab": {}
      },
      "source": [
        ""
      ],
      "execution_count": 0,
      "outputs": []
    },
    {
      "cell_type": "markdown",
      "metadata": {
        "id": "-3HjJNMuaIjq",
        "colab_type": "text"
      },
      "source": [
        "# Prepare Tfidf matrix"
      ]
    },
    {
      "cell_type": "code",
      "metadata": {
        "id": "_Op15T43jcxt",
        "colab_type": "code",
        "colab": {}
      },
      "source": [
        "# Vectorize the sentences\n",
        "vectorizer = TfidfVectorizer(stop_words=\"english\")\n",
        "tfidf_matrix = vectorizer.fit_transform(sentences_df.Sentence.values)"
      ],
      "execution_count": 0,
      "outputs": []
    },
    {
      "cell_type": "code",
      "metadata": {
        "id": "9jETfpmfa6ig",
        "colab_type": "code",
        "colab": {}
      },
      "source": [
        ""
      ],
      "execution_count": 0,
      "outputs": []
    },
    {
      "cell_type": "markdown",
      "metadata": {
        "id": "w9azhoNhgxTA",
        "colab_type": "text"
      },
      "source": [
        "# Search for answers\n",
        "#### Now we're ready to start retrieving answers to COVID-19 questions.\n",
        "\n",
        "#### Method 1: Tf-Idf and Cosine Similarity\n",
        "#### Method 2: Word2Vec Embeddings and Word Mover's Distance"
      ]
    },
    {
      "cell_type": "code",
      "metadata": {
        "id": "n3ziki0OhFHa",
        "colab_type": "code",
        "colab": {}
      },
      "source": [
        "def display_results(query, sentences_df, top_n=20):\n",
        "\n",
        "    query = nltk.word_tokenize(query)\n",
        "    to_display = sentences_df.sort_values('Rank', ascending=True).iloc[0:top_n]\n",
        "\n",
        "    for idx, row in to_display.iterrows():\n",
        "\n",
        "        title = str(retrieved_df.loc[row.Id].title)\n",
        "        authors = str(retrieved_df.loc[row.Id].authors).split(',')[0] + '. et al.'\n",
        "        \n",
        "\n",
        "        \"\"\"\n",
        "        prev_sentence = \"\"\n",
        "        next_sentence = \"\"\n",
        "        if idx != 0:\n",
        "            prev_sentence = str(sentences.loc[idx - 1].Sentence)\n",
        "\n",
        "        if idx != len(sentences):\n",
        "            next_sentence = str(sentences.loc[idx + 1].Sentence)\n",
        "        \n",
        "        sentence = prev_sentence + row.Sentence + next_sentence\n",
        "        \"\"\"\n",
        "\n",
        "        sentence = nltk.word_tokenize(row.Sentence)\n",
        "        \n",
        "        # Display title of the paper and the authors\n",
        "        display(HTML(\"<b><font color='black'>\" + title + '. ' +\n",
        "                    \"</b>\" + authors + \"</font>\"))\n",
        "\n",
        "\n",
        "        # Loop over words in the sentence and paste as highlighted text if word is in query,\n",
        "        # else paste as normal string\n",
        "        text = str([\"<span style='background-color:#9ae59a'>\" + word + \"</span>\"\n",
        "                        if word in query else word\n",
        "                        for word in sentence]) + '<hr></div>'\n",
        "        # Since the text gets pasted like this ['good', 'night'],\n",
        "        # remove the brackets, commas, and quotes\n",
        "        text = re.sub(\"[\\'\\\"\\,\\[\\]]\", \"\", text)\n",
        "        \n",
        "        # Display the sentence\n",
        "        display(HTML(\"<p><font color='#3B57BD'>\" + text + \"</font></p>\".strip(\"\\'\")))\n",
        "        display(HTML(\"<hr>\"))\n",
        "\n",
        "\n",
        "\n",
        "def search(query, method='tfidf'):\n",
        "\n",
        "    # Lower case and remove trailing whitespaces\n",
        "    query = query.lower().strip()\n",
        "\n",
        "    if method == 'tfidf':\n",
        "\n",
        "        query_modified = vectorizer.transform([query])\n",
        "\n",
        "        sentences_df['Rank'] = cosine_distances(tfidf_matrix, query_modified)\n",
        "        display_results(query, sentences_df)\n",
        "\n",
        "\n",
        "    elif method == \"wmd\":\n",
        "\n",
        "        query_modified = tokenize(query)\n",
        "        dists = [word2vec.wv.wmdistance(query_modified, sentence) for sentence in sentences_df.Tokenized]\n",
        "\n",
        "        sentences_df['Rank'] = dists\n",
        "        display_results(query, sentences_df)\n"
      ],
      "execution_count": 0,
      "outputs": []
    },
    {
      "cell_type": "code",
      "metadata": {
        "id": "MP5z8Xddh9er",
        "colab_type": "code",
        "outputId": "5e942785-19db-4d5c-efaf-fdc5db8244d0",
        "colab": {
          "base_uri": "https://localhost:8080/",
          "height": 1000
        }
      },
      "source": [
        "query = 'infants of mothers with covid-19'\n",
        "search(query, method='wmd')"
      ],
      "execution_count": 23,
      "outputs": [
        {
          "output_type": "display_data",
          "data": {
            "text/html": [
              "<b><font color='black'>CORONAVIRUS IN PREGNANCY AND DELIVERY: RAPID REVIEW AND EXPERT CONSENSUS. </b>E Mullins. et al.</font>"
            ],
            "text/plain": [
              "<IPython.core.display.HTML object>"
            ]
          },
          "metadata": {
            "tags": []
          }
        },
        {
          "output_type": "display_data",
          "data": {
            "text/html": [
              "<p><font color='#3B57BD'>9/10 <span style=background-color:#9ae59a>infants</span> were tested for <span style=background-color:#9ae59a>covid-19</span>  all testing was negative<hr></div></font></p>"
            ],
            "text/plain": [
              "<IPython.core.display.HTML object>"
            ]
          },
          "metadata": {
            "tags": []
          }
        },
        {
          "output_type": "display_data",
          "data": {
            "text/html": [
              "<hr>"
            ],
            "text/plain": [
              "<IPython.core.display.HTML object>"
            ]
          },
          "metadata": {
            "tags": []
          }
        },
        {
          "output_type": "display_data",
          "data": {
            "text/html": [
              "<b><font color='black'>Gender differences in patients with COVID-19: Focus on severity and mortality. </b>Jian-Min Jin. et al.</font>"
            ],
            "text/plain": [
              "<IPython.core.display.HTML object>"
            ]
          },
          "metadata": {
            "tags": []
          }
        },
        {
          "output_type": "display_data",
          "data": {
            "text/html": [
              "<p><font color='#3B57BD'>most patients <span style=background-color:#9ae59a>with</span> <span style=background-color:#9ae59a>covid-19</span> were mild<hr></div></font></p>"
            ],
            "text/plain": [
              "<IPython.core.display.HTML object>"
            ]
          },
          "metadata": {
            "tags": []
          }
        },
        {
          "output_type": "display_data",
          "data": {
            "text/html": [
              "<hr>"
            ],
            "text/plain": [
              "<IPython.core.display.HTML object>"
            ]
          },
          "metadata": {
            "tags": []
          }
        },
        {
          "output_type": "display_data",
          "data": {
            "text/html": [
              "<b><font color='black'>Title page Title: Acute myelitis after SARS-CoV-2 infection: a case report Acute myelitis after SARS-CoV-2 infection: a case report. </b>Kang Zhao. et al.</font>"
            ],
            "text/plain": [
              "<IPython.core.display.HTML object>"
            ]
          },
          "metadata": {
            "tags": []
          }
        },
        {
          "output_type": "display_data",
          "data": {
            "text/html": [
              "<p><font color='#3B57BD'>he had no contact <span style=background-color:#9ae59a>with</span> patients <span style=background-color:#9ae59a>with</span> <span style=background-color:#9ae59a>covid-19</span><hr></div></font></p>"
            ],
            "text/plain": [
              "<IPython.core.display.HTML object>"
            ]
          },
          "metadata": {
            "tags": []
          }
        },
        {
          "output_type": "display_data",
          "data": {
            "text/html": [
              "<hr>"
            ],
            "text/plain": [
              "<IPython.core.display.HTML object>"
            ]
          },
          "metadata": {
            "tags": []
          }
        },
        {
          "output_type": "display_data",
          "data": {
            "text/html": [
              "<b><font color='black'>First two months of the 2019 Coronavirus Disease (COVID-19) epidemic in China: real- time surveillance and evaluation with a second derivative model. </b>Xinguang Chen. et al.</font>"
            ],
            "text/plain": [
              "<IPython.core.display.HTML object>"
            ]
          },
          "metadata": {
            "tags": []
          }
        },
        {
          "output_type": "display_data",
          "data": {
            "text/html": [
              "<p><font color='#3B57BD'>this is particularly true for the <span style=background-color:#9ae59a>covid-19</span><hr></div></font></p>"
            ],
            "text/plain": [
              "<IPython.core.display.HTML object>"
            ]
          },
          "metadata": {
            "tags": []
          }
        },
        {
          "output_type": "display_data",
          "data": {
            "text/html": [
              "<hr>"
            ],
            "text/plain": [
              "<IPython.core.display.HTML object>"
            ]
          },
          "metadata": {
            "tags": []
          }
        },
        {
          "output_type": "display_data",
          "data": {
            "text/html": [
              "<b><font color='black'>SARS-CoV-2 invades host cells via a novel route: CD147-spike protein. </b>Ke Wang. et al.</font>"
            ],
            "text/plain": [
              "<IPython.core.display.HTML object>"
            ]
          },
          "metadata": {
            "tags": []
          }
        },
        {
          "output_type": "display_data",
          "data": {
            "text/html": [
              "<p><font color='#3B57BD'>the treatment <span style=background-color:#9ae59a>of</span> <span style=background-color:#9ae59a>covid-19</span><hr></div></font></p>"
            ],
            "text/plain": [
              "<IPython.core.display.HTML object>"
            ]
          },
          "metadata": {
            "tags": []
          }
        },
        {
          "output_type": "display_data",
          "data": {
            "text/html": [
              "<hr>"
            ],
            "text/plain": [
              "<IPython.core.display.HTML object>"
            ]
          },
          "metadata": {
            "tags": []
          }
        },
        {
          "output_type": "display_data",
          "data": {
            "text/html": [
              "<b><font color='black'>CORONAVIRUS IN PREGNANCY AND DELIVERY: RAPID REVIEW AND EXPERT CONSENSUS. </b>E Mullins. et al.</font>"
            ],
            "text/plain": [
              "<IPython.core.display.HTML object>"
            ]
          },
          "metadata": {
            "tags": []
          }
        },
        {
          "output_type": "display_data",
          "data": {
            "text/html": [
              "<p><font color='#3B57BD'><span style=background-color:#9ae59a>infants</span> may acquire <span style=background-color:#9ae59a>covid-19</span> from their <span style=background-color:#9ae59a>mothers</span> after delivery via normal routes <span style=background-color:#9ae59a>of</span> transmissionguidance from china is that `` <span style=background-color:#9ae59a>infants</span> should not be fed <span style=background-color:#9ae59a>with</span> the breast milk from <span style=background-color:#9ae59a>mothers</span> <span style=background-color:#9ae59a>with</span> confirmed or suspected <span style=background-color:#9ae59a>of</span> 2019-ncov <hr></div></font></p>"
            ],
            "text/plain": [
              "<IPython.core.display.HTML object>"
            ]
          },
          "metadata": {
            "tags": []
          }
        },
        {
          "output_type": "display_data",
          "data": {
            "text/html": [
              "<hr>"
            ],
            "text/plain": [
              "<IPython.core.display.HTML object>"
            ]
          },
          "metadata": {
            "tags": []
          }
        },
        {
          "output_type": "display_data",
          "data": {
            "text/html": [
              "<b><font color='black'>Prevalence and clinical features of 2019 novel coronavirus disease (COVID-19) in the Fever Clinic of a teaching hospital in Beijing: a single-center, retrospective study. </b>Ying Liang. et al.</font>"
            ],
            "text/plain": [
              "<IPython.core.display.HTML object>"
            ]
          },
          "metadata": {
            "tags": []
          }
        },
        {
          "output_type": "display_data",
          "data": {
            "text/html": [
              "<p><font color='#3B57BD'>the prevalence <span style=background-color:#9ae59a>of</span> <span style=background-color:#9ae59a>covid-19</span> in all these pneumonia patients was 6.14 % ( 21/342 )<hr></div></font></p>"
            ],
            "text/plain": [
              "<IPython.core.display.HTML object>"
            ]
          },
          "metadata": {
            "tags": []
          }
        },
        {
          "output_type": "display_data",
          "data": {
            "text/html": [
              "<hr>"
            ],
            "text/plain": [
              "<IPython.core.display.HTML object>"
            ]
          },
          "metadata": {
            "tags": []
          }
        },
        {
          "output_type": "display_data",
          "data": {
            "text/html": [
              "<b><font color='black'>Prevalence and clinical features of 2019 novel coronavirus disease (COVID-19) in the Fever Clinic of a teaching hospital in Beijing: a single-center, retrospective study. </b>Ying Liang. et al.</font>"
            ],
            "text/plain": [
              "<IPython.core.display.HTML object>"
            ]
          },
          "metadata": {
            "tags": []
          }
        },
        {
          "output_type": "display_data",
          "data": {
            "text/html": [
              "<p><font color='#3B57BD'>the prevalence <span style=background-color:#9ae59a>of</span> <span style=background-color:#9ae59a>covid-19</span> in all these pneumonia patients was 6.14 % ( 21/342 )<hr></div></font></p>"
            ],
            "text/plain": [
              "<IPython.core.display.HTML object>"
            ]
          },
          "metadata": {
            "tags": []
          }
        },
        {
          "output_type": "display_data",
          "data": {
            "text/html": [
              "<hr>"
            ],
            "text/plain": [
              "<IPython.core.display.HTML object>"
            ]
          },
          "metadata": {
            "tags": []
          }
        },
        {
          "output_type": "display_data",
          "data": {
            "text/html": [
              "<b><font color='black'>Lessons learnt from 288 COVID-19 international cases: importations over time, effect of interventions, underdetection of imported cases. </b>Francesco Pinotti. et al.</font>"
            ],
            "text/plain": [
              "<IPython.core.display.HTML object>"
            ]
          },
          "metadata": {
            "tags": []
          }
        },
        {
          "output_type": "display_data",
          "data": {
            "text/html": [
              "<p><font color='#3B57BD'><span style=background-color:#9ae59a>covid-19</span> -situazione in italia e nel mondo<hr></div></font></p>"
            ],
            "text/plain": [
              "<IPython.core.display.HTML object>"
            ]
          },
          "metadata": {
            "tags": []
          }
        },
        {
          "output_type": "display_data",
          "data": {
            "text/html": [
              "<hr>"
            ],
            "text/plain": [
              "<IPython.core.display.HTML object>"
            ]
          },
          "metadata": {
            "tags": []
          }
        },
        {
          "output_type": "display_data",
          "data": {
            "text/html": [
              "<b><font color='black'>CORONAVIRUS IN PREGNANCY AND DELIVERY: RAPID REVIEW AND EXPERT CONSENSUS. </b>E Mullins. et al.</font>"
            ],
            "text/plain": [
              "<IPython.core.display.HTML object>"
            ]
          },
          "metadata": {
            "tags": []
          }
        },
        {
          "output_type": "display_data",
          "data": {
            "text/html": [
              "<p><font color='#3B57BD'>\\uf0b7 <span style=background-color:#9ae59a>infants</span> born to those <span style=background-color:#9ae59a>with</span> <span style=background-color:#9ae59a>covid-19</span> need to be closely monitored<hr></div></font></p>"
            ],
            "text/plain": [
              "<IPython.core.display.HTML object>"
            ]
          },
          "metadata": {
            "tags": []
          }
        },
        {
          "output_type": "display_data",
          "data": {
            "text/html": [
              "<hr>"
            ],
            "text/plain": [
              "<IPython.core.display.HTML object>"
            ]
          },
          "metadata": {
            "tags": []
          }
        },
        {
          "output_type": "display_data",
          "data": {
            "text/html": [
              "<b><font color='black'>Effects of temperature variation and humidity on the mortality of COVID-19 in Wuhan. </b>Yueling Ma. et al.</font>"
            ],
            "text/plain": [
              "<IPython.core.display.HTML object>"
            ]
          },
          "metadata": {
            "tags": []
          }
        },
        {
          "output_type": "display_data",
          "data": {
            "text/html": [
              "<p><font color='#3B57BD'>and <span style=background-color:#9ae59a>covid-19</span> mortality at current day<hr></div></font></p>"
            ],
            "text/plain": [
              "<IPython.core.display.HTML object>"
            ]
          },
          "metadata": {
            "tags": []
          }
        },
        {
          "output_type": "display_data",
          "data": {
            "text/html": [
              "<hr>"
            ],
            "text/plain": [
              "<IPython.core.display.HTML object>"
            ]
          },
          "metadata": {
            "tags": []
          }
        },
        {
          "output_type": "display_data",
          "data": {
            "text/html": [
              "<b><font color='black'>Analysis of early renal injury in COVID-19 and diagnostic value of multi-index combined detection. </b>Xu-Wei Hong. et al.</font>"
            ],
            "text/plain": [
              "<IPython.core.display.HTML object>"
            ]
          },
          "metadata": {
            "tags": []
          }
        },
        {
          "output_type": "display_data",
          "data": {
            "text/html": [
              "<p><font color='#3B57BD'><span style=background-color:#9ae59a>covid-19</span> is a newly emerging epidemic<hr></div></font></p>"
            ],
            "text/plain": [
              "<IPython.core.display.HTML object>"
            ]
          },
          "metadata": {
            "tags": []
          }
        },
        {
          "output_type": "display_data",
          "data": {
            "text/html": [
              "<hr>"
            ],
            "text/plain": [
              "<IPython.core.display.HTML object>"
            ]
          },
          "metadata": {
            "tags": []
          }
        },
        {
          "output_type": "display_data",
          "data": {
            "text/html": [
              "<b><font color='black'>How to differentiate COVID-19 pneumonia from heart failure with computed tomography at initial medical contact during epidemic period Running title: CT imaging for COVID-19 and heart failure. </b>Zhaowei Zhu. et al.</font>"
            ],
            "text/plain": [
              "<IPython.core.display.HTML object>"
            ]
          },
          "metadata": {
            "tags": []
          }
        },
        {
          "output_type": "display_data",
          "data": {
            "text/html": [
              "<p><font color='#3B57BD'>most <span style=background-color:#9ae59a>of</span> the patients <span style=background-color:#9ae59a>with</span> <span style=background-color:#9ae59a>covid-19</span> enrolled were non-severe cases<hr></div></font></p>"
            ],
            "text/plain": [
              "<IPython.core.display.HTML object>"
            ]
          },
          "metadata": {
            "tags": []
          }
        },
        {
          "output_type": "display_data",
          "data": {
            "text/html": [
              "<hr>"
            ],
            "text/plain": [
              "<IPython.core.display.HTML object>"
            ]
          },
          "metadata": {
            "tags": []
          }
        },
        {
          "output_type": "display_data",
          "data": {
            "text/html": [
              "<b><font color='black'>Title: Intrinsic growth rules of patients infected, dead and cured with 2019 novel 1 coronavirus in mainland China 2. </b>Chuanliang Han. et al.</font>"
            ],
            "text/plain": [
              "<IPython.core.display.HTML object>"
            ]
          },
          "metadata": {
            "tags": []
          }
        },
        {
          "output_type": "display_data",
          "data": {
            "text/html": [
              "<p><font color='#3B57BD'>for both sars and <span style=background-color:#9ae59a>covid-19</span>  fitted 279<hr></div></font></p>"
            ],
            "text/plain": [
              "<IPython.core.display.HTML object>"
            ]
          },
          "metadata": {
            "tags": []
          }
        },
        {
          "output_type": "display_data",
          "data": {
            "text/html": [
              "<hr>"
            ],
            "text/plain": [
              "<IPython.core.display.HTML object>"
            ]
          },
          "metadata": {
            "tags": []
          }
        },
        {
          "output_type": "display_data",
          "data": {
            "text/html": [
              "<b><font color='black'>CORONAVIRUS IN PREGNANCY AND DELIVERY: RAPID REVIEW AND EXPERT CONSENSUS. </b>E Mullins. et al.</font>"
            ],
            "text/plain": [
              "<IPython.core.display.HTML object>"
            ]
          },
          "metadata": {
            "tags": []
          }
        },
        {
          "output_type": "display_data",
          "data": {
            "text/html": [
              "<p><font color='#3B57BD'>we note that guidance from china is that `` <span style=background-color:#9ae59a>infants</span> should not be fed <span style=background-color:#9ae59a>with</span> the breast milk from <span style=background-color:#9ae59a>mothers</span> <span style=background-color:#9ae59a>with</span> confirmed or suspected <span style=background-color:#9ae59a>of</span> 2019-ncov <hr></div></font></p>"
            ],
            "text/plain": [
              "<IPython.core.display.HTML object>"
            ]
          },
          "metadata": {
            "tags": []
          }
        },
        {
          "output_type": "display_data",
          "data": {
            "text/html": [
              "<hr>"
            ],
            "text/plain": [
              "<IPython.core.display.HTML object>"
            ]
          },
          "metadata": {
            "tags": []
          }
        },
        {
          "output_type": "display_data",
          "data": {
            "text/html": [
              "<b><font color='black'>Title page Title: Acute myelitis after SARS-CoV-2 infection: a case report Acute myelitis after SARS-CoV-2 infection: a case report. </b>Kang Zhao. et al.</font>"
            ],
            "text/plain": [
              "<IPython.core.display.HTML object>"
            ]
          },
          "metadata": {
            "tags": []
          }
        },
        {
          "output_type": "display_data",
          "data": {
            "text/html": [
              "<p><font color='#3B57BD'>for positive 2019-ncov test  <span style=background-color:#9ae59a>covid-19</span> was diagnosed<hr></div></font></p>"
            ],
            "text/plain": [
              "<IPython.core.display.HTML object>"
            ]
          },
          "metadata": {
            "tags": []
          }
        },
        {
          "output_type": "display_data",
          "data": {
            "text/html": [
              "<hr>"
            ],
            "text/plain": [
              "<IPython.core.display.HTML object>"
            ]
          },
          "metadata": {
            "tags": []
          }
        },
        {
          "output_type": "display_data",
          "data": {
            "text/html": [
              "<b><font color='black'>Pangolin homology associated with 2019-nCoV. </b>Tao Zhang. et al.</font>"
            ],
            "text/plain": [
              "<IPython.core.display.HTML object>"
            ]
          },
          "metadata": {
            "tags": []
          }
        },
        {
          "output_type": "display_data",
          "data": {
            "text/html": [
              "<p><font color='#3B57BD'>/2020 which is close on the outbreak <span style=background-color:#9ae59a>of</span> <span style=background-color:#9ae59a>covid-19</span><hr></div></font></p>"
            ],
            "text/plain": [
              "<IPython.core.display.HTML object>"
            ]
          },
          "metadata": {
            "tags": []
          }
        },
        {
          "output_type": "display_data",
          "data": {
            "text/html": [
              "<hr>"
            ],
            "text/plain": [
              "<IPython.core.display.HTML object>"
            ]
          },
          "metadata": {
            "tags": []
          }
        },
        {
          "output_type": "display_data",
          "data": {
            "text/html": [
              "<b><font color='black'>CORONAVIRUS IN PREGNANCY AND DELIVERY: RAPID REVIEW AND EXPERT CONSENSUS. </b>E Mullins. et al.</font>"
            ],
            "text/plain": [
              "<IPython.core.display.HTML object>"
            ]
          },
          "metadata": {
            "tags": []
          }
        },
        {
          "output_type": "display_data",
          "data": {
            "text/html": [
              "<p><font color='#3B57BD'>we do not concur that <span style=background-color:#9ae59a>mothers</span> and baby should be routinely separated<hr></div></font></p>"
            ],
            "text/plain": [
              "<IPython.core.display.HTML object>"
            ]
          },
          "metadata": {
            "tags": []
          }
        },
        {
          "output_type": "display_data",
          "data": {
            "text/html": [
              "<hr>"
            ],
            "text/plain": [
              "<IPython.core.display.HTML object>"
            ]
          },
          "metadata": {
            "tags": []
          }
        },
        {
          "output_type": "display_data",
          "data": {
            "text/html": [
              "<b><font color='black'>CORONAVIRUS IN PREGNANCY AND DELIVERY: RAPID REVIEW AND EXPERT CONSENSUS. </b>E Mullins. et al.</font>"
            ],
            "text/plain": [
              "<IPython.core.display.HTML object>"
            ]
          },
          "metadata": {
            "tags": []
          }
        },
        {
          "output_type": "display_data",
          "data": {
            "text/html": [
              "<p><font color='#3B57BD'>in <span style=background-color:#9ae59a>covid-19</span>  if maternal illness is not as severe  the considerations will be based more on obstetric indications for deliveryinformation on vertical transmission for <span style=background-color:#9ae59a>covid-19</span> is limited  although testing <span style=background-color:#9ae59a>of</span> 15 neonates born to <span style=background-color:#9ae59a>mothers</span> <span style=background-color:#9ae59a>with</span> <span style=background-color:#9ae59a>covid-19</span> has all been negative<hr></div></font></p>"
            ],
            "text/plain": [
              "<IPython.core.display.HTML object>"
            ]
          },
          "metadata": {
            "tags": []
          }
        },
        {
          "output_type": "display_data",
          "data": {
            "text/html": [
              "<hr>"
            ],
            "text/plain": [
              "<IPython.core.display.HTML object>"
            ]
          },
          "metadata": {
            "tags": []
          }
        },
        {
          "output_type": "display_data",
          "data": {
            "text/html": [
              "<b><font color='black'>Modelling the situation of COVID-19 and effects of different containment strategies in China with dynamic differential equations and parameters estimation. </b>Xiuli Liu. et al.</font>"
            ],
            "text/plain": [
              "<IPython.core.display.HTML object>"
            ]
          },
          "metadata": {
            "tags": []
          }
        },
        {
          "output_type": "display_data",
          "data": {
            "text/html": [
              "<p><font color='#3B57BD'>it seems that the <span style=background-color:#9ae59a>covid-19</span> all rights reserved<hr></div></font></p>"
            ],
            "text/plain": [
              "<IPython.core.display.HTML object>"
            ]
          },
          "metadata": {
            "tags": []
          }
        },
        {
          "output_type": "display_data",
          "data": {
            "text/html": [
              "<hr>"
            ],
            "text/plain": [
              "<IPython.core.display.HTML object>"
            ]
          },
          "metadata": {
            "tags": []
          }
        }
      ]
    },
    {
      "cell_type": "code",
      "metadata": {
        "id": "5TJ8k5Qcm0pe",
        "colab_type": "code",
        "outputId": "00a0baa8-30f2-467c-dcef-ea8d92a972a4",
        "colab": {
          "base_uri": "https://localhost:8080/",
          "height": 1000
        }
      },
      "source": [
        "query = 'neonates of mothers with covid-19'\n",
        "search(query, method='tfidf')"
      ],
      "execution_count": 22,
      "outputs": [
        {
          "output_type": "display_data",
          "data": {
            "text/html": [
              "<b><font color='black'>CORONAVIRUS IN PREGNANCY AND DELIVERY: RAPID REVIEW AND EXPERT CONSENSUS. </b>E Mullins. et al.</font>"
            ],
            "text/plain": [
              "<IPython.core.display.HTML object>"
            ]
          },
          "metadata": {
            "tags": []
          }
        },
        {
          "output_type": "display_data",
          "data": {
            "text/html": [
              "<p><font color='#3B57BD'>in <span style=background-color:#9ae59a>covid-19</span>  if maternal illness is not as severe  the considerations will be based more on obstetric indications for deliveryinformation on vertical transmission for <span style=background-color:#9ae59a>covid-19</span> is limited  although testing <span style=background-color:#9ae59a>of</span> 15 <span style=background-color:#9ae59a>neonates</span> born to <span style=background-color:#9ae59a>mothers</span> <span style=background-color:#9ae59a>with</span> <span style=background-color:#9ae59a>covid-19</span> has all been negative<hr></div></font></p>"
            ],
            "text/plain": [
              "<IPython.core.display.HTML object>"
            ]
          },
          "metadata": {
            "tags": []
          }
        },
        {
          "output_type": "display_data",
          "data": {
            "text/html": [
              "<hr>"
            ],
            "text/plain": [
              "<IPython.core.display.HTML object>"
            ]
          },
          "metadata": {
            "tags": []
          }
        },
        {
          "output_type": "display_data",
          "data": {
            "text/html": [
              "<b><font color='black'>Congenital Malaria in China. </b>Zhi-Yong Tao. et al.</font>"
            ],
            "text/plain": [
              "<IPython.core.display.HTML object>"
            ]
          },
          "metadata": {
            "tags": []
          }
        },
        {
          "output_type": "display_data",
          "data": {
            "text/html": [
              "<p><font color='#3B57BD'>only three <span style=background-color:#9ae59a>mothers</span> <span style=background-color:#9ae59a>of</span> <span style=background-color:#9ae59a>neonates</span> diagnosed <span style=background-color:#9ae59a>with</span> congenital malaria reported no malaria symptoms  and all other <span style=background-color:#9ae59a>mothers</span> ( 96.51 %  83/86 cases ) had malaria symptoms during or prior to pregnancy<hr></div></font></p>"
            ],
            "text/plain": [
              "<IPython.core.display.HTML object>"
            ]
          },
          "metadata": {
            "tags": []
          }
        },
        {
          "output_type": "display_data",
          "data": {
            "text/html": [
              "<hr>"
            ],
            "text/plain": [
              "<IPython.core.display.HTML object>"
            ]
          },
          "metadata": {
            "tags": []
          }
        },
        {
          "output_type": "display_data",
          "data": {
            "text/html": [
              "<b><font color='black'>Congenital Malaria in China. </b>Zhi-Yong Tao. et al.</font>"
            ],
            "text/plain": [
              "<IPython.core.display.HTML object>"
            ]
          },
          "metadata": {
            "tags": []
          }
        },
        {
          "output_type": "display_data",
          "data": {
            "text/html": [
              "<p><font color='#3B57BD'>this includes assessment and diagnosis <span style=background-color:#9ae59a>of</span> the resulting congenital malaria that may occur in <span style=background-color:#9ae59a>neonates</span> born to malarious <span style=background-color:#9ae59a>mothers</span><hr></div></font></p>"
            ],
            "text/plain": [
              "<IPython.core.display.HTML object>"
            ]
          },
          "metadata": {
            "tags": []
          }
        },
        {
          "output_type": "display_data",
          "data": {
            "text/html": [
              "<hr>"
            ],
            "text/plain": [
              "<IPython.core.display.HTML object>"
            ]
          },
          "metadata": {
            "tags": []
          }
        },
        {
          "output_type": "display_data",
          "data": {
            "text/html": [
              "<b><font color='black'>CORONAVIRUS IN PREGNANCY AND DELIVERY: RAPID REVIEW AND EXPERT CONSENSUS. </b>E Mullins. et al.</font>"
            ],
            "text/plain": [
              "<IPython.core.display.HTML object>"
            ]
          },
          "metadata": {
            "tags": []
          }
        },
        {
          "output_type": "display_data",
          "data": {
            "text/html": [
              "<p><font color='#3B57BD'>infants may acquire <span style=background-color:#9ae59a>covid-19</span> from their <span style=background-color:#9ae59a>mothers</span> after delivery via normal routes <span style=background-color:#9ae59a>of</span> transmissionguidance from china is that `` infants should not be fed <span style=background-color:#9ae59a>with</span> the breast milk from <span style=background-color:#9ae59a>mothers</span> <span style=background-color:#9ae59a>with</span> confirmed or suspected <span style=background-color:#9ae59a>of</span> 2019-ncov <hr></div></font></p>"
            ],
            "text/plain": [
              "<IPython.core.display.HTML object>"
            ]
          },
          "metadata": {
            "tags": []
          }
        },
        {
          "output_type": "display_data",
          "data": {
            "text/html": [
              "<hr>"
            ],
            "text/plain": [
              "<IPython.core.display.HTML object>"
            ]
          },
          "metadata": {
            "tags": []
          }
        },
        {
          "output_type": "display_data",
          "data": {
            "text/html": [
              "<b><font color='black'>Causes of severe pneumonia requiring hospital admission in children without HIV infection from Africa and Asia: the PERCH multi-country case-control study The PERCH Study Group. </b>Katherine L O&apos;brien. et al.</font>"
            ],
            "text/plain": [
              "<IPython.core.display.HTML object>"
            ]
          },
          "metadata": {
            "tags": []
          }
        },
        {
          "output_type": "display_data",
          "data": {
            "text/html": [
              "<p><font color='#3B57BD'>we recognise that pneumonia is an important illness in <span style=background-color:#9ae59a>neonates</span><hr></div></font></p>"
            ],
            "text/plain": [
              "<IPython.core.display.HTML object>"
            ]
          },
          "metadata": {
            "tags": []
          }
        },
        {
          "output_type": "display_data",
          "data": {
            "text/html": [
              "<hr>"
            ],
            "text/plain": [
              "<IPython.core.display.HTML object>"
            ]
          },
          "metadata": {
            "tags": []
          }
        },
        {
          "output_type": "display_data",
          "data": {
            "text/html": [
              "<b><font color='black'>Environmental Research and Public Health Listeriosis as Zoonotic Foodborne Diseases: A Review. </b>Agnieszka Chlebicz. et al.</font>"
            ],
            "text/plain": [
              "<IPython.core.display.HTML object>"
            ]
          },
          "metadata": {
            "tags": []
          }
        },
        {
          "output_type": "display_data",
          "data": {
            "text/html": [
              "<p><font color='#3B57BD'>in <span style=background-color:#9ae59a>neonates</span>  the infection may lead to sepsis  pneumonia  or meningitis 7 <hr></div></font></p>"
            ],
            "text/plain": [
              "<IPython.core.display.HTML object>"
            ]
          },
          "metadata": {
            "tags": []
          }
        },
        {
          "output_type": "display_data",
          "data": {
            "text/html": [
              "<hr>"
            ],
            "text/plain": [
              "<IPython.core.display.HTML object>"
            ]
          },
          "metadata": {
            "tags": []
          }
        },
        {
          "output_type": "display_data",
          "data": {
            "text/html": [
              "<b><font color='black'>SARS-CoV-2 invades host cells via a novel route: CD147-spike protein. </b>Ke Wang. et al.</font>"
            ],
            "text/plain": [
              "<IPython.core.display.HTML object>"
            ]
          },
          "metadata": {
            "tags": []
          }
        },
        {
          "output_type": "display_data",
          "data": {
            "text/html": [
              "<p><font color='#3B57BD'>the treatment <span style=background-color:#9ae59a>of</span> <span style=background-color:#9ae59a>covid-19</span><hr></div></font></p>"
            ],
            "text/plain": [
              "<IPython.core.display.HTML object>"
            ]
          },
          "metadata": {
            "tags": []
          }
        },
        {
          "output_type": "display_data",
          "data": {
            "text/html": [
              "<hr>"
            ],
            "text/plain": [
              "<IPython.core.display.HTML object>"
            ]
          },
          "metadata": {
            "tags": []
          }
        },
        {
          "output_type": "display_data",
          "data": {
            "text/html": [
              "<b><font color='black'>Health-related quality of life in intensive care survivors: Associations with social support, comorbidity, and pain interference. </b>Anne Kathrine Langerud. et al.</font>"
            ],
            "text/plain": [
              "<IPython.core.display.HTML object>"
            ]
          },
          "metadata": {
            "tags": []
          }
        },
        {
          "output_type": "display_data",
          "data": {
            "text/html": [
              "<p><font color='#3B57BD'>however  if we compare our data <span style=background-color:#9ae59a>with</span> those <span style=background-color:#9ae59a>of</span> first time <span style=background-color:#9ae59a>mothers</span>  it appears that our icu survivors perceived a higher level <span style=background-color:#9ae59a>of</span> total social support and scored higher on all provisions  except nurturance  compared <span style=background-color:#9ae59a>with</span> first time <span style=background-color:#9ae59a>mothers</span><hr></div></font></p>"
            ],
            "text/plain": [
              "<IPython.core.display.HTML object>"
            ]
          },
          "metadata": {
            "tags": []
          }
        },
        {
          "output_type": "display_data",
          "data": {
            "text/html": [
              "<hr>"
            ],
            "text/plain": [
              "<IPython.core.display.HTML object>"
            ]
          },
          "metadata": {
            "tags": []
          }
        },
        {
          "output_type": "display_data",
          "data": {
            "text/html": [
              "<b><font color='black'>Clinical characteristics of 82 death cases with COVID-19. </b>Bicheng Zhang. et al.</font>"
            ],
            "text/plain": [
              "<IPython.core.display.HTML object>"
            ]
          },
          "metadata": {
            "tags": []
          }
        },
        {
          "output_type": "display_data",
          "data": {
            "text/html": [
              "<p><font color='#3B57BD'>the mortality rate <span style=background-color:#9ae59a>of</span> <span style=background-color:#9ae59a>covid-19</span> was higher than that <span style=background-color:#9ae59a>of</span> non-covid-19 ( p < 0.001 )<hr></div></font></p>"
            ],
            "text/plain": [
              "<IPython.core.display.HTML object>"
            ]
          },
          "metadata": {
            "tags": []
          }
        },
        {
          "output_type": "display_data",
          "data": {
            "text/html": [
              "<hr>"
            ],
            "text/plain": [
              "<IPython.core.display.HTML object>"
            ]
          },
          "metadata": {
            "tags": []
          }
        },
        {
          "output_type": "display_data",
          "data": {
            "text/html": [
              "<b><font color='black'>Maternal and neonatal outcomes of pregnant women with COVID-19 pneumonia: a case-control study. </b>Na Li. et al.</font>"
            ],
            "text/plain": [
              "<IPython.core.display.HTML object>"
            ]
          },
          "metadata": {
            "tags": []
          }
        },
        {
          "output_type": "display_data",
          "data": {
            "text/html": [
              "<p><font color='#3B57BD'>unfortunately  none <span style=background-color:#9ae59a>of</span> them gave us the consent to collect the respiratory specimens <span style=background-color:#9ae59a>of</span> their <span style=background-color:#9ae59a>neonates</span><hr></div></font></p>"
            ],
            "text/plain": [
              "<IPython.core.display.HTML object>"
            ]
          },
          "metadata": {
            "tags": []
          }
        },
        {
          "output_type": "display_data",
          "data": {
            "text/html": [
              "<hr>"
            ],
            "text/plain": [
              "<IPython.core.display.HTML object>"
            ]
          },
          "metadata": {
            "tags": []
          }
        },
        {
          "output_type": "display_data",
          "data": {
            "text/html": [
              "<b><font color='black'>CORONAVIRUS IN PREGNANCY AND DELIVERY: RAPID REVIEW AND EXPERT CONSENSUS. </b>E Mullins. et al.</font>"
            ],
            "text/plain": [
              "<IPython.core.display.HTML object>"
            ]
          },
          "metadata": {
            "tags": []
          }
        },
        {
          "output_type": "display_data",
          "data": {
            "text/html": [
              "<p><font color='#3B57BD'>\\uf0b7 we recommend that human breast milk banks should not use human milk from <span style=background-color:#9ae59a>mothers</span> confirmed to be infected <span style=background-color:#9ae59a>with</span> <span style=background-color:#9ae59a>covid-19</span><hr></div></font></p>"
            ],
            "text/plain": [
              "<IPython.core.display.HTML object>"
            ]
          },
          "metadata": {
            "tags": []
          }
        },
        {
          "output_type": "display_data",
          "data": {
            "text/html": [
              "<hr>"
            ],
            "text/plain": [
              "<IPython.core.display.HTML object>"
            ]
          },
          "metadata": {
            "tags": []
          }
        },
        {
          "output_type": "display_data",
          "data": {
            "text/html": [
              "<b><font color='black'>Insignificant effect of counter measure for coronavirus infectious disease -19 in Japan. </b>Yoshiyuki Sugishita. et al.</font>"
            ],
            "text/plain": [
              "<IPython.core.display.HTML object>"
            ]
          },
          "metadata": {
            "tags": []
          }
        },
        {
          "output_type": "display_data",
          "data": {
            "text/html": [
              "<p><font color='#3B57BD'>all had received a test to detect <span style=background-color:#9ae59a>covid-19</span> ; <span style=background-color:#9ae59a>of</span> them  14 were found to be positive for <span style=background-color:#9ae59a>covid-19</span><hr></div></font></p>"
            ],
            "text/plain": [
              "<IPython.core.display.HTML object>"
            ]
          },
          "metadata": {
            "tags": []
          }
        },
        {
          "output_type": "display_data",
          "data": {
            "text/html": [
              "<hr>"
            ],
            "text/plain": [
              "<IPython.core.display.HTML object>"
            ]
          },
          "metadata": {
            "tags": []
          }
        },
        {
          "output_type": "display_data",
          "data": {
            "text/html": [
              "<b><font color='black'>Molecular Modeling Evaluation of the Binding Effect of Ritonavir, Lopinavir and Darunavir to Severe Acute Respiratory Syndrome Coronavirus 2 Proteases. </b>Shen Lin. et al.</font>"
            ],
            "text/plain": [
              "<IPython.core.display.HTML object>"
            ]
          },
          "metadata": {
            "tags": []
          }
        },
        {
          "output_type": "display_data",
          "data": {
            "text/html": [
              "<p><font color='#3B57BD'>however  there is still no specific treatment for <span style=background-color:#9ae59a>covid-19</span><hr></div></font></p>"
            ],
            "text/plain": [
              "<IPython.core.display.HTML object>"
            ]
          },
          "metadata": {
            "tags": []
          }
        },
        {
          "output_type": "display_data",
          "data": {
            "text/html": [
              "<hr>"
            ],
            "text/plain": [
              "<IPython.core.display.HTML object>"
            ]
          },
          "metadata": {
            "tags": []
          }
        },
        {
          "output_type": "display_data",
          "data": {
            "text/html": [
              "<b><font color='black'>Title page Title: Acute myelitis after SARS-CoV-2 infection: a case report Acute myelitis after SARS-CoV-2 infection: a case report. </b>Kang Zhao. et al.</font>"
            ],
            "text/plain": [
              "<IPython.core.display.HTML object>"
            ]
          },
          "metadata": {
            "tags": []
          }
        },
        {
          "output_type": "display_data",
          "data": {
            "text/html": [
              "<p><font color='#3B57BD'>he had no contact <span style=background-color:#9ae59a>with</span> patients <span style=background-color:#9ae59a>with</span> <span style=background-color:#9ae59a>covid-19</span><hr></div></font></p>"
            ],
            "text/plain": [
              "<IPython.core.display.HTML object>"
            ]
          },
          "metadata": {
            "tags": []
          }
        },
        {
          "output_type": "display_data",
          "data": {
            "text/html": [
              "<hr>"
            ],
            "text/plain": [
              "<IPython.core.display.HTML object>"
            ]
          },
          "metadata": {
            "tags": []
          }
        },
        {
          "output_type": "display_data",
          "data": {
            "text/html": [
              "<b><font color='black'>Gender differences in patients with COVID-19: Focus on severity and mortality. </b>Jian-Min Jin. et al.</font>"
            ],
            "text/plain": [
              "<IPython.core.display.HTML object>"
            ]
          },
          "metadata": {
            "tags": []
          }
        },
        {
          "output_type": "display_data",
          "data": {
            "text/html": [
              "<p><font color='#3B57BD'>most patients <span style=background-color:#9ae59a>with</span> <span style=background-color:#9ae59a>covid-19</span> were mild<hr></div></font></p>"
            ],
            "text/plain": [
              "<IPython.core.display.HTML object>"
            ]
          },
          "metadata": {
            "tags": []
          }
        },
        {
          "output_type": "display_data",
          "data": {
            "text/html": [
              "<hr>"
            ],
            "text/plain": [
              "<IPython.core.display.HTML object>"
            ]
          },
          "metadata": {
            "tags": []
          }
        },
        {
          "output_type": "display_data",
          "data": {
            "text/html": [
              "<b><font color='black'>Prevalence and clinical features of 2019 novel coronavirus disease (COVID-19) in the Fever Clinic of a teaching hospital in Beijing: a single-center, retrospective study. </b>Ying Liang. et al.</font>"
            ],
            "text/plain": [
              "<IPython.core.display.HTML object>"
            ]
          },
          "metadata": {
            "tags": []
          }
        },
        {
          "output_type": "display_data",
          "data": {
            "text/html": [
              "<p><font color='#3B57BD'>doi : medrxiv preprint <span style=background-color:#9ae59a>of</span> <span style=background-color:#9ae59a>covid-19</span><hr></div></font></p>"
            ],
            "text/plain": [
              "<IPython.core.display.HTML object>"
            ]
          },
          "metadata": {
            "tags": []
          }
        },
        {
          "output_type": "display_data",
          "data": {
            "text/html": [
              "<hr>"
            ],
            "text/plain": [
              "<IPython.core.display.HTML object>"
            ]
          },
          "metadata": {
            "tags": []
          }
        },
        {
          "output_type": "display_data",
          "data": {
            "text/html": [
              "<b><font color='black'>. </b>nan. et al.</font>"
            ],
            "text/plain": [
              "<IPython.core.display.HTML object>"
            ]
          },
          "metadata": {
            "tags": []
          }
        },
        {
          "output_type": "display_data",
          "data": {
            "text/html": [
              "<p><font color='#3B57BD'>it is therefore possible that this is also the case in <span style=background-color:#9ae59a>covid-19</span><hr></div></font></p>"
            ],
            "text/plain": [
              "<IPython.core.display.HTML object>"
            ]
          },
          "metadata": {
            "tags": []
          }
        },
        {
          "output_type": "display_data",
          "data": {
            "text/html": [
              "<hr>"
            ],
            "text/plain": [
              "<IPython.core.display.HTML object>"
            ]
          },
          "metadata": {
            "tags": []
          }
        },
        {
          "output_type": "display_data",
          "data": {
            "text/html": [
              "<b><font color='black'>A deterministic epidemic model for the emergence of COVID-19 in China. </b>Meng Wang. et al.</font>"
            ],
            "text/plain": [
              "<IPython.core.display.HTML object>"
            ]
          },
          "metadata": {
            "tags": []
          }
        },
        {
          "output_type": "display_data",
          "data": {
            "text/html": [
              "<p><font color='#3B57BD'>a study on <span style=background-color:#9ae59a>covid-19</span> in wuhan is also reported<hr></div></font></p>"
            ],
            "text/plain": [
              "<IPython.core.display.HTML object>"
            ]
          },
          "metadata": {
            "tags": []
          }
        },
        {
          "output_type": "display_data",
          "data": {
            "text/html": [
              "<hr>"
            ],
            "text/plain": [
              "<IPython.core.display.HTML object>"
            ]
          },
          "metadata": {
            "tags": []
          }
        },
        {
          "output_type": "display_data",
          "data": {
            "text/html": [
              "<b><font color='black'>CORONAVIRUS IN PREGNANCY AND DELIVERY: RAPID REVIEW AND EXPERT CONSENSUS. </b>E Mullins. et al.</font>"
            ],
            "text/plain": [
              "<IPython.core.display.HTML object>"
            ]
          },
          "metadata": {
            "tags": []
          }
        },
        {
          "output_type": "display_data",
          "data": {
            "text/html": [
              "<p><font color='#3B57BD'>we do not concur that <span style=background-color:#9ae59a>mothers</span> and baby should be routinely separated<hr></div></font></p>"
            ],
            "text/plain": [
              "<IPython.core.display.HTML object>"
            ]
          },
          "metadata": {
            "tags": []
          }
        },
        {
          "output_type": "display_data",
          "data": {
            "text/html": [
              "<hr>"
            ],
            "text/plain": [
              "<IPython.core.display.HTML object>"
            ]
          },
          "metadata": {
            "tags": []
          }
        },
        {
          "output_type": "display_data",
          "data": {
            "text/html": [
              "<b><font color='black'>Modelling the situation of COVID-19 and effects of different containment strategies in China with dynamic differential equations and parameters estimation. </b>Xiuli Liu. et al.</font>"
            ],
            "text/plain": [
              "<IPython.core.display.HTML object>"
            ]
          },
          "metadata": {
            "tags": []
          }
        },
        {
          "output_type": "display_data",
          "data": {
            "text/html": [
              "<p><font color='#3B57BD'>it seems that the <span style=background-color:#9ae59a>covid-19</span> all rights reserved<hr></div></font></p>"
            ],
            "text/plain": [
              "<IPython.core.display.HTML object>"
            ]
          },
          "metadata": {
            "tags": []
          }
        },
        {
          "output_type": "display_data",
          "data": {
            "text/html": [
              "<hr>"
            ],
            "text/plain": [
              "<IPython.core.display.HTML object>"
            ]
          },
          "metadata": {
            "tags": []
          }
        }
      ]
    },
    {
      "cell_type": "code",
      "metadata": {
        "id": "G_UNeEcmohyX",
        "colab_type": "code",
        "colab": {}
      },
      "source": [
        ""
      ],
      "execution_count": 0,
      "outputs": []
    },
    {
      "cell_type": "code",
      "metadata": {
        "id": "5aq_xNZswUMk",
        "colab_type": "code",
        "colab": {}
      },
      "source": [
        ""
      ],
      "execution_count": 0,
      "outputs": []
    },
    {
      "cell_type": "code",
      "metadata": {
        "id": "v0_YfculQ4Ps",
        "colab_type": "code",
        "colab": {}
      },
      "source": [
        ""
      ],
      "execution_count": 0,
      "outputs": []
    },
    {
      "cell_type": "code",
      "metadata": {
        "id": "YWeD04oX4lcs",
        "colab_type": "code",
        "colab": {}
      },
      "source": [
        ""
      ],
      "execution_count": 0,
      "outputs": []
    },
    {
      "cell_type": "code",
      "metadata": {
        "id": "jA553v-R02E4",
        "colab_type": "code",
        "colab": {}
      },
      "source": [
        ""
      ],
      "execution_count": 0,
      "outputs": []
    },
    {
      "cell_type": "code",
      "metadata": {
        "id": "5d55Dc2fAUgu",
        "colab_type": "code",
        "colab": {}
      },
      "source": [
        ""
      ],
      "execution_count": 0,
      "outputs": []
    }
  ]
}